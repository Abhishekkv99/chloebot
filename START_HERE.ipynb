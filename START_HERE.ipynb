{
 "cells": [
  {
   "cell_type": "code",
   "execution_count": 2,
   "metadata": {},
   "outputs": [
    {
     "name": "stderr",
     "output_type": "stream",
     "text": [
      "[nltk_data] Downloading package wordnet to ./saved/...\n",
      "[nltk_data]   Package wordnet is already up-to-date!\n"
     ]
    }
   ],
   "source": [
    "import torch\n",
    "\n",
    "from scripts.MoveData import *\n",
    "from scripts.Transformer import *\n",
    "from scripts.TalkTrain import *\n",
    "\n",
    "import nltk\n",
    "nltk.download('wordnet', './saved/') \n",
    "from nltk.corpus import wordnet"
   ]
  },
  {
   "cell_type": "code",
   "execution_count": 3,
   "metadata": {},
   "outputs": [],
   "source": [
    "opt = Options(batchsize = 4)\n",
    "data_iter, infield, outfield, opt = csv2datatools('saved/translation_pairs.csv','en', opt)"
   ]
  },
  {
   "cell_type": "code",
   "execution_count": 12,
   "metadata": {},
   "outputs": [
    {
     "data": {
      "text/plain": [
       "<All keys matched successfully>"
      ]
     },
     "execution_count": 12,
     "metadata": {},
     "output_type": "execute_result"
    }
   ],
   "source": [
    "emb_dim, n_layers, heads, dropout = 64, 2, 8, 0.1 \n",
    "opt.save_path = 'saved/weights/model_weights'\n",
    "model = Transformer(len(infield.vocab), len(outfield.vocab), emb_dim, n_layers, heads, dropout)\n",
    "\n",
    "if opt.device != -1:\n",
    "    model = model.cuda()\n",
    "    \n",
    "model.load_state_dict(torch.load(opt.save_path))"
   ]
  },
  {
   "cell_type": "code",
   "execution_count": 16,
   "metadata": {},
   "outputs": [],
   "source": [
    "opt.lr = 0.01 # 0.01 - 0.0001\n",
    "opt.epochs = 20 \n",
    "optimizer = torch.optim.Adam(model.parameters(), lr=opt.lr, betas=(0.9, 0.98), eps=1e-9)\n",
    "scheduler = CosineWithRestarts(optimizer, T_max=num_batches(data_iter))"
   ]
  },
  {
   "cell_type": "code",
   "execution_count": 17,
   "metadata": {},
   "outputs": [
    {
     "name": "stdout",
     "output_type": "stream",
     "text": [
      "0m: epoch 0 loss = 1.466\n",
      "0m: epoch 1 loss = 0.861\n",
      "0m: epoch 2 loss = 0.672\n",
      "0m: epoch 3 loss = 0.532\n",
      "0m: epoch 4 loss = 0.372\n",
      "0m: epoch 5 loss = 0.304\n",
      "0m: epoch 6 loss = 0.219\n",
      "0m: epoch 7 loss = 0.151\n",
      "0m: epoch 8 loss = 0.122\n",
      "0m: epoch 9 loss = 0.096\n",
      "0m: epoch 10 loss = 0.065\n",
      "0m: epoch 11 loss = 0.053\n",
      "0m: epoch 12 loss = 0.037\n",
      "0m: epoch 13 loss = 0.026\n",
      "0m: epoch 14 loss = 0.024\n",
      "0m: epoch 15 loss = 0.015\n",
      "0m: epoch 16 loss = 0.014\n",
      "0m: epoch 17 loss = 0.009\n",
      "0m: epoch 18 loss = 0.010\n",
      "0m: epoch 19 loss = 0.008\n"
     ]
    }
   ],
   "source": [
    "# When the loss is less than 0.1, the responses should start to become coherent \n",
    "model = trainer(model, data_iter, opt, optimizer, scheduler)"
   ]
  },
  {
   "cell_type": "code",
   "execution_count": 18,
   "metadata": {},
   "outputs": [
    {
     "name": "stdout",
     "output_type": "stream",
     "text": [
      "Chloe > i am chloe\n",
      "\n"
     ]
    }
   ],
   "source": [
    "sentence = \"who are you?\" \n",
    "opt.k = 1\n",
    "opt.max_len = 10\n",
    "sentence = talk_to_model(sentence, model, opt, infield, outfield)\n",
    "print('Chloe > '+ sentence + '\\n')"
   ]
  },
  {
   "cell_type": "code",
   "execution_count": null,
   "metadata": {},
   "outputs": [
    {
     "name": "stdout",
     "output_type": "stream",
     "text": [
      "You > hi\n",
      "Chloe > hello\n",
      "\n",
      "You > who are you\n",
      "Chloe > i am chloe\n",
      "\n",
      "You > are you alive?\n",
      "Chloe > depends on your definition of alive\n",
      "\n"
     ]
    }
   ],
   "source": [
    "# when you want to turn off this cell, click Kernel->Interrupt \n",
    "while True:\n",
    "    sentence = input(\"You > \")\n",
    "    sentence = talk_to_model(sentence, model, opt, infield, outfield)\n",
    "    print('Chloe > '+ sentence + '\\n')"
   ]
  },
  {
   "cell_type": "code",
   "execution_count": null,
   "metadata": {},
   "outputs": [],
   "source": []
  }
 ],
 "metadata": {
  "kernelspec": {
   "display_name": "Python 3",
   "language": "python",
   "name": "python3"
  },
  "language_info": {
   "codemirror_mode": {
    "name": "ipython",
    "version": 3
   },
   "file_extension": ".py",
   "mimetype": "text/x-python",
   "name": "python",
   "nbconvert_exporter": "python",
   "pygments_lexer": "ipython3",
   "version": "3.6.8"
  }
 },
 "nbformat": 4,
 "nbformat_minor": 2
}
